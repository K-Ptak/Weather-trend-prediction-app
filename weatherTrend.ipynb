{
 "cells": [
  {
   "cell_type": "code",
   "execution_count": 1,
   "id": "7eccdc5e",
   "metadata": {},
   "outputs": [],
   "source": [
    "import warnings\n",
    "import pandas as pd\n",
    "import numpy as np\n",
    "\n",
    "warnings.filterwarnings(\"ignore\", category=UserWarning)"
   ]
  },
  {
   "cell_type": "code",
   "execution_count": 2,
   "id": "34e3a747",
   "metadata": {},
   "outputs": [],
   "source": [
    "data = pd.read_csv('pogoda.csv')\n",
    "data = data.drop('date', axis=1)"
   ]
  },
  {
   "cell_type": "code",
   "execution_count": 3,
   "id": "bdd9ea79",
   "metadata": {},
   "outputs": [],
   "source": [
    "def train_test_split(X, y, test_size=0.2, random_state=None):\n",
    "    if random_state is not None:\n",
    "        np.random.seed(random_state)\n",
    "    \n",
    "    # Shuffle the indices\n",
    "    indices = np.arange(X.shape[0])\n",
    "    np.random.shuffle(indices)\n",
    "    \n",
    "    # Calculate the number of samples for the test set\n",
    "    test_samples = int(X.shape[0] * test_size)\n",
    "    \n",
    "    # Split the indices into train and test sets\n",
    "    test_indices = indices[:test_samples]\n",
    "    train_indices = indices[test_samples:]\n",
    "    \n",
    "    # Split the data based on the indices\n",
    "    X_train = X.iloc[train_indices]\n",
    "    X_test = X.iloc[test_indices]\n",
    "    y_train = y.iloc[train_indices]\n",
    "    y_test = y.iloc[test_indices]\n",
    "    \n",
    "    return X_train, X_test, y_train, y_test"
   ]
  },
  {
   "cell_type": "code",
   "execution_count": 4,
   "id": "4e27a2cb",
   "metadata": {},
   "outputs": [],
   "source": [
    "def accuracy_score(y_true, y_pred):\n",
    "    correct = 0\n",
    "    total = len(y_true)\n",
    "    for true_label, pred_label in zip(y_true, y_pred):\n",
    "        if true_label == pred_label:\n",
    "            correct += 1\n",
    "    accuracy = correct / total\n",
    "    return accuracy"
   ]
  },
  {
   "cell_type": "code",
   "execution_count": 5,
   "id": "b38ec6b6",
   "metadata": {},
   "outputs": [],
   "source": [
    "class DecisionTree:\n",
    "    def __init__(self, max_depth=None):\n",
    "        self.max_depth = max_depth\n",
    "        self.tree = None\n",
    "\n",
    "    def fit(self, X, y):\n",
    "        self.tree = self._build_tree(X, y)\n",
    "\n",
    "    def predict(self, X):\n",
    "        return np.array([self._traverse_tree(x, self.tree) for x in X])\n",
    "\n",
    "    def _traverse_tree(self, x, node):\n",
    "        if node['leaf']:\n",
    "            return node['class']\n",
    "\n",
    "        if x[node['feature_index']] <= node['threshold']:\n",
    "            return self._traverse_tree(x, node['left'])\n",
    "        else:\n",
    "            return self._traverse_tree(x, node['right'])\n",
    "\n",
    "    def _build_tree(self, X, y, depth=0):\n",
    "        if depth == self.max_depth or len(np.unique(y)) == 1:\n",
    "            return {'leaf': True, 'class': self._most_common_class(y)}\n",
    "\n",
    "        feature_index, threshold = self._find_best_split(X, y)\n",
    "        if feature_index is None or threshold is None:\n",
    "            return {'leaf': True, 'class': self._most_common_class(y)}\n",
    "\n",
    "        left_indices = X[:, feature_index] <= threshold\n",
    "        right_indices = X[:, feature_index] > threshold\n",
    "\n",
    "        if np.all(left_indices) or np.all(right_indices):\n",
    "            return {'leaf': True, 'class': self._most_common_class(y)}\n",
    "\n",
    "        left_tree = self._build_tree(X[left_indices], y[left_indices], depth + 1)\n",
    "        right_tree = self._build_tree(X[right_indices], y[right_indices], depth + 1)\n",
    "\n",
    "        return {'leaf': False, 'feature_index': feature_index, 'threshold': threshold,\n",
    "                'left': left_tree, 'right': right_tree}\n",
    "\n",
    "    def _find_best_split(self, X, y):\n",
    "        best_gain = -1\n",
    "        best_feature_index = None\n",
    "        best_threshold = None\n",
    "\n",
    "        n_features = X.shape[1]\n",
    "        for feature_index in range(n_features):\n",
    "            feature_values = X[:, feature_index]\n",
    "            unique_values = np.unique(feature_values)\n",
    "\n",
    "            for threshold in unique_values:\n",
    "                gain = self._calculate_information_gain(X, y, feature_index, threshold)\n",
    "\n",
    "                if gain > best_gain:\n",
    "                    best_gain = gain\n",
    "                    best_feature_index = feature_index\n",
    "                    best_threshold = threshold\n",
    "\n",
    "        return best_feature_index, best_threshold\n",
    "\n",
    "    def _calculate_information_gain(self, X, y, feature_index, threshold):\n",
    "        parent_gini = self._gini(y)\n",
    "\n",
    "        left_indices = X[:, feature_index] <= threshold\n",
    "        right_indices = X[:, feature_index] > threshold\n",
    "\n",
    "        left_gini = self._gini(y[left_indices])\n",
    "        right_gini = self._gini(y[right_indices])\n",
    "\n",
    "        left_weight = len(y[left_indices]) / len(y)\n",
    "        right_weight = len(y[right_indices]) / len(y)\n",
    "\n",
    "        information_gain = parent_gini - (left_weight * left_gini) - (right_weight * right_gini)\n",
    "        return information_gain\n",
    "\n",
    "    def _gini(self, y):\n",
    "        classes, counts = np.unique(y, return_counts=True)\n",
    "        probabilities = counts / len(y)\n",
    "        gini = 1 - np.sum(probabilities ** 2)\n",
    "        return gini\n",
    "\n",
    "    def _most_common_class(self, y):\n",
    "        classes, counts = np.unique(y, return_counts=True)\n",
    "        most_common_index = np.argmax(counts)\n",
    "        return classes[most_common_index]"
   ]
  },
  {
   "cell_type": "code",
   "execution_count": 6,
   "id": "d5135120",
   "metadata": {},
   "outputs": [],
   "source": [
    "class RandomForestClassifier:\n",
    "    def __init__(self, n_estimators=100, max_depth=None):\n",
    "        self.n_estimators = n_estimators\n",
    "        self.max_depth = max_depth\n",
    "        self.estimators = []\n",
    "\n",
    "    def fit(self, X, y):\n",
    "        X = np.array(X)\n",
    "        y = np.array(y)\n",
    "\n",
    "        self.estimators = []\n",
    "        for _ in range(self.n_estimators):\n",
    "            bootstrap_indices = np.random.choice(len(X), size=len(X), replace=True)\n",
    "            X_bootstrap = X[bootstrap_indices]\n",
    "            y_bootstrap = y[bootstrap_indices]\n",
    "\n",
    "            estimator = DecisionTree(max_depth=self.max_depth)\n",
    "            estimator.fit(X_bootstrap, y_bootstrap)\n",
    "            self.estimators.append(estimator)\n",
    "\n",
    "    def predict(self, X):\n",
    "        X = np.array(X)\n",
    "        predictions = np.array([estimator.predict(X) for estimator in self.estimators])\n",
    "        unique_values, counts = np.unique(predictions, return_counts=True, axis=0)\n",
    "        majority_vote = unique_values[np.argmax(counts)]\n",
    "        return majority_vote"
   ]
  },
  {
   "cell_type": "code",
   "execution_count": 7,
   "id": "1c8c79bb",
   "metadata": {},
   "outputs": [
    {
     "name": "stdout",
     "output_type": "stream",
     "text": [
      "step\n"
     ]
    }
   ],
   "source": [
    "# Set the feature names (column names) explicitly\n",
    "feature_names = ['precipitation', 'temp_max', 'temp_min', 'wind']\n",
    "data = data[feature_names + ['weather']]  # Reorder columns\n",
    "\n",
    "# Separate the features (input) and target (output) columns\n",
    "X = data[feature_names]\n",
    "y = data['weather']\n",
    "\n",
    "# Split the data into training and testing sets\n",
    "X_train, X_test, y_train, y_test = train_test_split(X, y, test_size=0.2, random_state=42)\n",
    "print('step')\n"
   ]
  },
  {
   "cell_type": "code",
   "execution_count": null,
   "id": "a377c7f3",
   "metadata": {},
   "outputs": [],
   "source": [
    "clf = RandomForestClassifier()\n",
    "clf.fit(X_train, y_train)\n",
    "print('step')"
   ]
  },
  {
   "cell_type": "code",
   "execution_count": null,
   "id": "a8f910fd",
   "metadata": {},
   "outputs": [],
   "source": [
    "y_pred = clf.predict(X_test)\n",
    "print('step')"
   ]
  },
  {
   "cell_type": "code",
   "execution_count": null,
   "id": "3ac627cd",
   "metadata": {},
   "outputs": [],
   "source": [
    "accuracy = accuracy_score(y_test, y_pred)\n",
    "print('Accuracy:', accuracy)"
   ]
  },
  {
   "cell_type": "code",
   "execution_count": null,
   "id": "46e39dff",
   "metadata": {},
   "outputs": [],
   "source": [
    "new_data = [[0.2, 25.0, 15.0, 10.5]]  # Example data for prediction\n",
    "predicted_weather = clf.predict(new_data)\n",
    "print('Predicted weather:', predicted_weather)\n"
   ]
  },
  {
   "cell_type": "code",
   "execution_count": null,
   "id": "16183f2e",
   "metadata": {},
   "outputs": [],
   "source": []
  }
 ],
 "metadata": {
  "kernelspec": {
   "display_name": "Python 3 (ipykernel)",
   "language": "python",
   "name": "python3"
  },
  "language_info": {
   "codemirror_mode": {
    "name": "ipython",
    "version": 3
   },
   "file_extension": ".py",
   "mimetype": "text/x-python",
   "name": "python",
   "nbconvert_exporter": "python",
   "pygments_lexer": "ipython3",
   "version": "3.11.3"
  }
 },
 "nbformat": 4,
 "nbformat_minor": 5
}
