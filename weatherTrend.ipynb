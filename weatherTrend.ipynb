{
 "cells": [
  {
   "cell_type": "code",
   "execution_count": 6,
   "id": "a13a1ce6",
   "metadata": {
    "scrolled": true
   },
   "outputs": [
    {
     "name": "stdout",
     "output_type": "stream",
     "text": [
      "   MinTemp  MaxTemp  Rainfall  Evaporation  Sunshine WindGustDir   \n",
      "0      8.0     24.3       0.0          3.4       6.3          NW  \\\n",
      "1     14.0     26.9       3.6          4.4       9.7         ENE   \n",
      "2     13.7     23.4       3.6          5.8       3.3          NW   \n",
      "3     13.3     15.5      39.8          7.2       9.1          NW   \n",
      "4      7.6     16.1       2.8          5.6      10.6         SSE   \n",
      "\n",
      "   WindGustSpeed WindDir9am WindDir3pm  WindSpeed9am  ...  Humidity3pm   \n",
      "0           30.0         SW         NW           6.0  ...           29  \\\n",
      "1           39.0          E          W           4.0  ...           36   \n",
      "2           85.0          N        NNE           6.0  ...           69   \n",
      "3           54.0        WNW          W          30.0  ...           56   \n",
      "4           50.0        SSE        ESE          20.0  ...           49   \n",
      "\n",
      "   Pressure9am  Pressure3pm  Cloud9am  Cloud3pm  Temp9am  Temp3pm  RainToday   \n",
      "0       1019.7       1015.0         7         7     14.4     23.6         No  \\\n",
      "1       1012.4       1008.4         5         3     17.5     25.7        Yes   \n",
      "2       1009.5       1007.2         8         7     15.4     20.2        Yes   \n",
      "3       1005.5       1007.0         2         7     13.5     14.1        Yes   \n",
      "4       1018.3       1018.5         7         7     11.1     15.4        Yes   \n",
      "\n",
      "   RISK_MM RainTomorrow  \n",
      "0      3.6          Yes  \n",
      "1      3.6          Yes  \n",
      "2     39.8          Yes  \n",
      "3      2.8          Yes  \n",
      "4      0.0           No  \n",
      "\n",
      "[5 rows x 22 columns]\n"
     ]
    }
   ],
   "source": [
    "import pandas as pd\n",
    "import numpy as np\n",
    "import matplotlib.pyplot as plt\n",
    "\n",
    "data = pd.read_csv(\"weather.csv\")\n",
    "print(data.head())"
   ]
  },
  {
   "cell_type": "code",
   "execution_count": null,
   "id": "a9c7ea61",
   "metadata": {},
   "outputs": [],
   "source": []
  }
 ],
 "metadata": {
  "kernelspec": {
   "display_name": "Python 3 (ipykernel)",
   "language": "python",
   "name": "python3"
  },
  "language_info": {
   "codemirror_mode": {
    "name": "ipython",
    "version": 3
   },
   "file_extension": ".py",
   "mimetype": "text/x-python",
   "name": "python",
   "nbconvert_exporter": "python",
   "pygments_lexer": "ipython3",
   "version": "3.11.3"
  }
 },
 "nbformat": 4,
 "nbformat_minor": 5
}
